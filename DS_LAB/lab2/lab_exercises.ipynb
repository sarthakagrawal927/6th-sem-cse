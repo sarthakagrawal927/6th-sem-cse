{
 "metadata": {
  "language_info": {
   "codemirror_mode": {
    "name": "ipython",
    "version": 3
   },
   "file_extension": ".py",
   "mimetype": "text/x-python",
   "name": "python",
   "nbconvert_exporter": "python",
   "pygments_lexer": "ipython3",
   "version": "3.6.9-final"
  },
  "orig_nbformat": 2,
  "kernelspec": {
   "name": "python3",
   "display_name": "Python 3.6.9 64-bit",
   "metadata": {
    "interpreter": {
     "hash": "31f2aee4e71d21fbe5cf8b01ff0e069b9275f58929596ceb00d14d90e3e16cd6"
    }
   }
  }
 },
 "nbformat": 4,
 "nbformat_minor": 2,
 "cells": [
  {
   "cell_type": "code",
   "execution_count": 51,
   "metadata": {},
   "outputs": [
    {
     "output_type": "execute_result",
     "data": {
      "text/plain": [
       "160"
      ]
     },
     "metadata": {},
     "execution_count": 51
    }
   ],
   "source": [
    "#Q1\n",
    "a = int(input())\n",
    "b = int(input())\n",
    "a*b"
   ]
  },
  {
   "cell_type": "code",
   "execution_count": 52,
   "metadata": {},
   "outputs": [
    {
     "output_type": "stream",
     "name": "stdout",
     "text": [
      "4\n3\n"
     ]
    }
   ],
   "source": [
    "#Q2\n",
    "a = 3\n",
    "b = 4\n",
    "a,b  = b,a\n",
    "print(a)\n",
    "print(b)"
   ]
  },
  {
   "cell_type": "code",
   "execution_count": 53,
   "metadata": {},
   "outputs": [
    {
     "output_type": "stream",
     "name": "stdout",
     "text": [
      "even\nodd\n"
     ]
    }
   ],
   "source": [
    "#Q3\n",
    "def oddEve( a):\n",
    "    print('odd') if a%2 else print('even')\n",
    "\n",
    "oddEve(4)\n",
    "oddEve(9)"
   ]
  },
  {
   "cell_type": "code",
   "execution_count": 54,
   "metadata": {},
   "outputs": [
    {
     "output_type": "stream",
     "name": "stdout",
     "text": [
      "9\n"
     ]
    }
   ],
   "source": [
    "#Q4\n",
    "def getMax(a,b,c):\n",
    "    print(max(a,max(b,c)))\n",
    "\n",
    "getMax(3,5,9)"
   ]
  },
  {
   "cell_type": "code",
   "execution_count": 55,
   "metadata": {},
   "outputs": [
    {
     "output_type": "stream",
     "name": "stdout",
     "text": [
      "\nodd\n\nodd\n\nodd\n\nodd\n\nodd\n\nodd\n"
     ]
    }
   ],
   "source": [
    "#Q5\n",
    "def listOdd(n):\n",
    "    while(n > 0):\n",
    "        print('odd') if n%2 else print()\n",
    "        n-=1\n",
    "\n",
    "listOdd(12)"
   ]
  },
  {
   "cell_type": "code",
   "execution_count": 56,
   "metadata": {},
   "outputs": [
    {
     "output_type": "stream",
     "name": "stdout",
     "text": [
      "85 122\n89\n97\n101\n103\n107\n109\n113\n"
     ]
    }
   ],
   "source": [
    "#Q6\n",
    "from sympy import *\n",
    "a = int(input())\n",
    "b = int(input())\n",
    "print(str(a)+ \" \"+ str(b))\n",
    "a,b = min(a,b), max(a,b)\n",
    "for x in range(a,b):\n",
    "    if isprime(x):\n",
    "        print(x)"
   ]
  },
  {
   "cell_type": "code",
   "execution_count": 57,
   "metadata": {},
   "outputs": [
    {
     "output_type": "stream",
     "name": "stdout",
     "text": [
      "[1, 3, 54, 86, 22]\nappend :  [1, 3, 54, 86, 22, 100]\nextend :  [1, 3, 54, 86, 22, 100, 110, 200]\ninsert :  [0, 1, 3, 54, 86, 22, 100, 110, 200]\nsort :  [0, 1, 3, 22, 54, 86, 100, 110, 200]\nreverse :  [200, 110, 100, 86, 54, 22, 3, 1, 0]\ncount of 1 in list:  1\nclear :  []\n"
     ]
    }
   ],
   "source": [
    "#Q7\n",
    "arr = [1,3,54,86,22]\n",
    "print(arr)\n",
    "arr.append(100)\n",
    "print('append : ',arr)\n",
    "arr.extend([110,200])\n",
    "print('extend : ',arr)\n",
    "arr.insert(0,0)\n",
    "print('insert : ',arr)\n",
    "arr.sort()\n",
    "print('sort : ',arr)\n",
    "arr.reverse()\n",
    "print('reverse : ',arr)\n",
    "x = arr.count(1)\n",
    "print('count of 1 in list: ',x)\n",
    "arr.clear()\n",
    "print('clear : ',arr)"
   ]
  },
  {
   "cell_type": "code",
   "execution_count": 58,
   "metadata": {},
   "outputs": [
    {
     "output_type": "stream",
     "name": "stdout",
     "text": [
      "1st half :  (1, 3, 5, 7, 9)\n2nd half :  (2, 4, 6, 8, 10)\n"
     ]
    }
   ],
   "source": [
    "#Q8\n",
    "tup = (1,3,5,7,9,2,4,6,8,10)\n",
    "print('1st half : ',tup[0:5])\n",
    "print('2nd half : ',tup[5:10])"
   ]
  },
  {
   "cell_type": "code",
   "execution_count": 59,
   "metadata": {},
   "outputs": [
    {
     "output_type": "stream",
     "name": "stdout",
     "text": [
      "oldtuple :  (12, 7, 38, 56, 78)\nNewtuple :  (12, 38, 56, 78)\n"
     ]
    }
   ],
   "source": [
    "#Q9\n",
    "tup = (12, 7, 38, 56, 78 )\n",
    "newtup=()\n",
    "print('oldtuple : ',tup)\n",
    "for i in tup:\n",
    "    if(i%2==0):\n",
    "        newtup+=(i,)\n",
    "print('Newtuple : ',newtup)"
   ]
  },
  {
   "cell_type": "code",
   "execution_count": 60,
   "metadata": {},
   "outputs": [
    {
     "output_type": "stream",
     "name": "stdout",
     "text": [
      "-21\n-93\n"
     ]
    }
   ],
   "source": [
    "#Q10\n",
    "l =[11, -21, 0, 45, 66, -93]\n",
    "for x in l:\n",
    "    (x<0) and print(x) "
   ]
  },
  {
   "cell_type": "code",
   "execution_count": 61,
   "metadata": {},
   "outputs": [
    {
     "output_type": "stream",
     "name": "stdout",
     "text": [
      "-21\n-93\n"
     ]
    }
   ],
   "source": [
    "#Q11\n",
    "l =[11, -21, 0, 45, 66, -93]\n",
    "x=0\n",
    "while(x < len(l)):\n",
    "    (l[x]<0) and print(l[x])\n",
    "    x+=1 "
   ]
  },
  {
   "cell_type": "code",
   "execution_count": 62,
   "metadata": {},
   "outputs": [
    {
     "output_type": "stream",
     "name": "stdout",
     "text": [
      "4\n2\n"
     ]
    }
   ],
   "source": [
    "#Q12\n",
    "p = 0\n",
    "n = 0\n",
    "l =[11, -21, 0, 45, 66, -93]\n",
    "for x in l:\n",
    "    if x>=0:\n",
    "        p+=1\n",
    "    else:\n",
    "        n+=1\n",
    "print(p)\n",
    "print(n)"
   ]
  },
  {
   "cell_type": "code",
   "execution_count": 63,
   "metadata": {},
   "outputs": [
    {
     "output_type": "execute_result",
     "data": {
      "text/plain": [
       "[11, -21, 45, -93]"
      ]
     },
     "metadata": {},
     "execution_count": 63
    }
   ],
   "source": [
    "#Q13\n",
    "l =[11, -21, 0, 45, 66, -93]\n",
    "for x in l:\n",
    "    if x%2==0:\n",
    "        l.remove(x)\n",
    "l"
   ]
  },
  {
   "cell_type": "code",
   "execution_count": 64,
   "metadata": {},
   "outputs": [
    {
     "output_type": "execute_result",
     "data": {
      "text/plain": [
       "{'Sarthak': ['5.10', 'Fail'],\n",
       " 'Sarthak2': ['6.10', 'Pass'],\n",
       " 'Sarthak3': ['5.0', 'Fail']}"
      ]
     },
     "metadata": {},
     "execution_count": 64
    }
   ],
   "source": [
    "#Q14\n",
    "d = {'Sarthak':['5.10', 'Fail'],'Sarthak2':['6.10', 'Pass'],'Sarthak3':['5.0', 'Fail']}\n",
    "d"
   ]
  },
  {
   "cell_type": "code",
   "execution_count": 65,
   "metadata": {},
   "outputs": [
    {
     "output_type": "execute_result",
     "data": {
      "text/plain": [
       "             0     1\n",
       "Sarthak   5.10  Fail\n",
       "Sarthak2  6.10  Pass\n",
       "Sarthak3   5.0  Fail"
      ],
      "text/html": "<div>\n<style scoped>\n    .dataframe tbody tr th:only-of-type {\n        vertical-align: middle;\n    }\n\n    .dataframe tbody tr th {\n        vertical-align: top;\n    }\n\n    .dataframe thead th {\n        text-align: right;\n    }\n</style>\n<table border=\"1\" class=\"dataframe\">\n  <thead>\n    <tr style=\"text-align: right;\">\n      <th></th>\n      <th>0</th>\n      <th>1</th>\n    </tr>\n  </thead>\n  <tbody>\n    <tr>\n      <th>Sarthak</th>\n      <td>5.10</td>\n      <td>Fail</td>\n    </tr>\n    <tr>\n      <th>Sarthak2</th>\n      <td>6.10</td>\n      <td>Pass</td>\n    </tr>\n    <tr>\n      <th>Sarthak3</th>\n      <td>5.0</td>\n      <td>Fail</td>\n    </tr>\n  </tbody>\n</table>\n</div>"
     },
     "metadata": {},
     "execution_count": 65
    }
   ],
   "source": [
    "import pandas as pd\n",
    "df = pd.DataFrame(d).T\n",
    "df"
   ]
  },
  {
   "cell_type": "code",
   "execution_count": 66,
   "metadata": {},
   "outputs": [
    {
     "output_type": "execute_result",
     "data": {
      "text/plain": [
       "             0     1    Addr\n",
       "Sarthak   5.10  Fail   addr1\n",
       "Sarthak2  6.10  Pass  adddr2\n",
       "Sarthak3   5.0  Fail   addr3"
      ],
      "text/html": "<div>\n<style scoped>\n    .dataframe tbody tr th:only-of-type {\n        vertical-align: middle;\n    }\n\n    .dataframe tbody tr th {\n        vertical-align: top;\n    }\n\n    .dataframe thead th {\n        text-align: right;\n    }\n</style>\n<table border=\"1\" class=\"dataframe\">\n  <thead>\n    <tr style=\"text-align: right;\">\n      <th></th>\n      <th>0</th>\n      <th>1</th>\n      <th>Addr</th>\n    </tr>\n  </thead>\n  <tbody>\n    <tr>\n      <th>Sarthak</th>\n      <td>5.10</td>\n      <td>Fail</td>\n      <td>addr1</td>\n    </tr>\n    <tr>\n      <th>Sarthak2</th>\n      <td>6.10</td>\n      <td>Pass</td>\n      <td>adddr2</td>\n    </tr>\n    <tr>\n      <th>Sarthak3</th>\n      <td>5.0</td>\n      <td>Fail</td>\n      <td>addr3</td>\n    </tr>\n  </tbody>\n</table>\n</div>"
     },
     "metadata": {},
     "execution_count": 66
    }
   ],
   "source": [
    "l = ['addr1','adddr2', 'addr3']\n",
    "df.insert(2,'Addr',l)\n",
    "df"
   ]
  },
  {
   "cell_type": "code",
   "execution_count": null,
   "metadata": {},
   "outputs": [],
   "source": []
  }
 ]
}