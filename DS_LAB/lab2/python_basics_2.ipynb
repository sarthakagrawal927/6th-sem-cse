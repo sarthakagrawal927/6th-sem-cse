{
 "metadata": {
  "language_info": {
   "codemirror_mode": {
    "name": "ipython",
    "version": 3
   },
   "file_extension": ".py",
   "mimetype": "text/x-python",
   "name": "python",
   "nbconvert_exporter": "python",
   "pygments_lexer": "ipython3",
   "version": "3.6.9-final"
  },
  "orig_nbformat": 2,
  "kernelspec": {
   "name": "python3",
   "display_name": "Python 3.6.9 64-bit",
   "metadata": {
    "interpreter": {
     "hash": "31f2aee4e71d21fbe5cf8b01ff0e069b9275f58929596ceb00d14d90e3e16cd6"
    }
   }
  }
 },
 "nbformat": 4,
 "nbformat_minor": 2,
 "cells": [
  {
   "cell_type": "code",
   "execution_count": 10,
   "metadata": {},
   "outputs": [
    {
     "output_type": "stream",
     "name": "stdout",
     "text": [
      "           A  B       C\n0 2013-01-02  3    Male\n1 2013-01-02  3  Female\n2 2013-01-02  3    Male\n3 2013-01-02  3  Female\n"
     ]
    }
   ],
   "source": [
    "import pandas as pd\n",
    "import numpy as np\n",
    "df1=pd.DataFrame({'A':pd.Timestamp('20130102'),'B':np.array([3]*4,dtype='int32'),\n",
    "'C':pd.Categorical(['Male','Female','Male','Female'])})\n",
    "print(df1)"
   ]
  },
  {
   "cell_type": "code",
   "execution_count": 11,
   "metadata": {},
   "outputs": [
    {
     "output_type": "execute_result",
     "data": {
      "text/plain": [
       "(4, 3)"
      ]
     },
     "metadata": {},
     "execution_count": 11
    }
   ],
   "source": [
    "df1.shape"
   ]
  },
  {
   "cell_type": "code",
   "execution_count": 15,
   "metadata": {},
   "outputs": [
    {
     "output_type": "execute_result",
     "data": {
      "text/plain": [
       "           A  B       C\n",
       "0 2013-01-02  3    Male\n",
       "1 2013-01-02  3  Female\n",
       "2 2013-01-02  3    Male\n",
       "3 2013-01-02  3  Female"
      ],
      "text/html": "<div>\n<style scoped>\n    .dataframe tbody tr th:only-of-type {\n        vertical-align: middle;\n    }\n\n    .dataframe tbody tr th {\n        vertical-align: top;\n    }\n\n    .dataframe thead th {\n        text-align: right;\n    }\n</style>\n<table border=\"1\" class=\"dataframe\">\n  <thead>\n    <tr style=\"text-align: right;\">\n      <th></th>\n      <th>A</th>\n      <th>B</th>\n      <th>C</th>\n    </tr>\n  </thead>\n  <tbody>\n    <tr>\n      <th>0</th>\n      <td>2013-01-02</td>\n      <td>3</td>\n      <td>Male</td>\n    </tr>\n    <tr>\n      <th>1</th>\n      <td>2013-01-02</td>\n      <td>3</td>\n      <td>Female</td>\n    </tr>\n    <tr>\n      <th>2</th>\n      <td>2013-01-02</td>\n      <td>3</td>\n      <td>Male</td>\n    </tr>\n    <tr>\n      <th>3</th>\n      <td>2013-01-02</td>\n      <td>3</td>\n      <td>Female</td>\n    </tr>\n  </tbody>\n</table>\n</div>"
     },
     "metadata": {},
     "execution_count": 15
    }
   ],
   "source": [
    "df1.tail()\n",
    "df1.head()"
   ]
  },
  {
   "cell_type": "code",
   "execution_count": 19,
   "metadata": {},
   "outputs": [
    {
     "output_type": "execute_result",
     "data": {
      "text/plain": [
       "         B\n",
       "count  4.0\n",
       "mean   3.0\n",
       "std    0.0\n",
       "min    3.0\n",
       "25%    3.0\n",
       "50%    3.0\n",
       "75%    3.0\n",
       "max    3.0"
      ],
      "text/html": "<div>\n<style scoped>\n    .dataframe tbody tr th:only-of-type {\n        vertical-align: middle;\n    }\n\n    .dataframe tbody tr th {\n        vertical-align: top;\n    }\n\n    .dataframe thead th {\n        text-align: right;\n    }\n</style>\n<table border=\"1\" class=\"dataframe\">\n  <thead>\n    <tr style=\"text-align: right;\">\n      <th></th>\n      <th>B</th>\n    </tr>\n  </thead>\n  <tbody>\n    <tr>\n      <th>count</th>\n      <td>4.0</td>\n    </tr>\n    <tr>\n      <th>mean</th>\n      <td>3.0</td>\n    </tr>\n    <tr>\n      <th>std</th>\n      <td>0.0</td>\n    </tr>\n    <tr>\n      <th>min</th>\n      <td>3.0</td>\n    </tr>\n    <tr>\n      <th>25%</th>\n      <td>3.0</td>\n    </tr>\n    <tr>\n      <th>50%</th>\n      <td>3.0</td>\n    </tr>\n    <tr>\n      <th>75%</th>\n      <td>3.0</td>\n    </tr>\n    <tr>\n      <th>max</th>\n      <td>3.0</td>\n    </tr>\n  </tbody>\n</table>\n</div>"
     },
     "metadata": {},
     "execution_count": 19
    }
   ],
   "source": [
    "df1.describe()\n"
   ]
  },
  {
   "cell_type": "code",
   "execution_count": 20,
   "metadata": {},
   "outputs": [],
   "source": [
    "dates=pd.date_range('20130101', periods=100)\n",
    "df = pd.DataFrame(np.random.randn(100,4), index=dates, columns=list('ABCD'))"
   ]
  },
  {
   "cell_type": "code",
   "execution_count": 21,
   "metadata": {},
   "outputs": [
    {
     "output_type": "execute_result",
     "data": {
      "text/plain": [
       "DatetimeIndex(['2013-01-01', '2013-01-02', '2013-01-03', '2013-01-04',\n",
       "               '2013-01-05', '2013-01-06', '2013-01-07', '2013-01-08',\n",
       "               '2013-01-09', '2013-01-10', '2013-01-11', '2013-01-12',\n",
       "               '2013-01-13', '2013-01-14', '2013-01-15', '2013-01-16',\n",
       "               '2013-01-17', '2013-01-18', '2013-01-19', '2013-01-20',\n",
       "               '2013-01-21', '2013-01-22', '2013-01-23', '2013-01-24',\n",
       "               '2013-01-25', '2013-01-26', '2013-01-27', '2013-01-28',\n",
       "               '2013-01-29', '2013-01-30', '2013-01-31', '2013-02-01',\n",
       "               '2013-02-02', '2013-02-03', '2013-02-04', '2013-02-05',\n",
       "               '2013-02-06', '2013-02-07', '2013-02-08', '2013-02-09',\n",
       "               '2013-02-10', '2013-02-11', '2013-02-12', '2013-02-13',\n",
       "               '2013-02-14', '2013-02-15', '2013-02-16', '2013-02-17',\n",
       "               '2013-02-18', '2013-02-19', '2013-02-20', '2013-02-21',\n",
       "               '2013-02-22', '2013-02-23', '2013-02-24', '2013-02-25',\n",
       "               '2013-02-26', '2013-02-27', '2013-02-28', '2013-03-01',\n",
       "               '2013-03-02', '2013-03-03', '2013-03-04', '2013-03-05',\n",
       "               '2013-03-06', '2013-03-07', '2013-03-08', '2013-03-09',\n",
       "               '2013-03-10', '2013-03-11', '2013-03-12', '2013-03-13',\n",
       "               '2013-03-14', '2013-03-15', '2013-03-16', '2013-03-17',\n",
       "               '2013-03-18', '2013-03-19', '2013-03-20', '2013-03-21',\n",
       "               '2013-03-22', '2013-03-23', '2013-03-24', '2013-03-25',\n",
       "               '2013-03-26', '2013-03-27', '2013-03-28', '2013-03-29',\n",
       "               '2013-03-30', '2013-03-31', '2013-04-01', '2013-04-02',\n",
       "               '2013-04-03', '2013-04-04', '2013-04-05', '2013-04-06',\n",
       "               '2013-04-07', '2013-04-08', '2013-04-09', '2013-04-10'],\n",
       "              dtype='datetime64[ns]', freq='D')"
      ]
     },
     "metadata": {},
     "execution_count": 21
    }
   ],
   "source": [
    "df.index\n"
   ]
  },
  {
   "cell_type": "code",
   "execution_count": 22,
   "metadata": {},
   "outputs": [
    {
     "output_type": "execute_result",
     "data": {
      "text/plain": [
       "Index(['A', 'B', 'C', 'D'], dtype='object')"
      ]
     },
     "metadata": {},
     "execution_count": 22
    }
   ],
   "source": [
    "df.columns"
   ]
  },
  {
   "cell_type": "code",
   "execution_count": 23,
   "metadata": {},
   "outputs": [
    {
     "output_type": "execute_result",
     "data": {
      "text/plain": [
       "                   D         C         B         A\n",
       "2013-01-01 -0.245755 -0.476814 -2.815544 -0.422622\n",
       "2013-01-02 -1.310112  1.526883 -0.535173  1.252991\n",
       "2013-01-03 -0.255013 -0.217833 -1.378519  0.391184\n",
       "2013-01-04  1.609512  0.448781  1.380687  0.715581\n",
       "2013-01-05 -0.910462  1.956755 -2.175678 -0.083761\n",
       "...              ...       ...       ...       ...\n",
       "2013-04-06 -1.363034 -0.619711 -0.871351 -1.463367\n",
       "2013-04-07  1.044716 -0.408717  0.413839 -0.469130\n",
       "2013-04-08  0.452632 -0.003033  1.970288 -0.706198\n",
       "2013-04-09  1.659426 -0.640438 -0.139371 -0.869247\n",
       "2013-04-10  0.910391  0.741497  1.748908 -0.646464\n",
       "\n",
       "[100 rows x 4 columns]"
      ],
      "text/html": "<div>\n<style scoped>\n    .dataframe tbody tr th:only-of-type {\n        vertical-align: middle;\n    }\n\n    .dataframe tbody tr th {\n        vertical-align: top;\n    }\n\n    .dataframe thead th {\n        text-align: right;\n    }\n</style>\n<table border=\"1\" class=\"dataframe\">\n  <thead>\n    <tr style=\"text-align: right;\">\n      <th></th>\n      <th>D</th>\n      <th>C</th>\n      <th>B</th>\n      <th>A</th>\n    </tr>\n  </thead>\n  <tbody>\n    <tr>\n      <th>2013-01-01</th>\n      <td>-0.245755</td>\n      <td>-0.476814</td>\n      <td>-2.815544</td>\n      <td>-0.422622</td>\n    </tr>\n    <tr>\n      <th>2013-01-02</th>\n      <td>-1.310112</td>\n      <td>1.526883</td>\n      <td>-0.535173</td>\n      <td>1.252991</td>\n    </tr>\n    <tr>\n      <th>2013-01-03</th>\n      <td>-0.255013</td>\n      <td>-0.217833</td>\n      <td>-1.378519</td>\n      <td>0.391184</td>\n    </tr>\n    <tr>\n      <th>2013-01-04</th>\n      <td>1.609512</td>\n      <td>0.448781</td>\n      <td>1.380687</td>\n      <td>0.715581</td>\n    </tr>\n    <tr>\n      <th>2013-01-05</th>\n      <td>-0.910462</td>\n      <td>1.956755</td>\n      <td>-2.175678</td>\n      <td>-0.083761</td>\n    </tr>\n    <tr>\n      <th>...</th>\n      <td>...</td>\n      <td>...</td>\n      <td>...</td>\n      <td>...</td>\n    </tr>\n    <tr>\n      <th>2013-04-06</th>\n      <td>-1.363034</td>\n      <td>-0.619711</td>\n      <td>-0.871351</td>\n      <td>-1.463367</td>\n    </tr>\n    <tr>\n      <th>2013-04-07</th>\n      <td>1.044716</td>\n      <td>-0.408717</td>\n      <td>0.413839</td>\n      <td>-0.469130</td>\n    </tr>\n    <tr>\n      <th>2013-04-08</th>\n      <td>0.452632</td>\n      <td>-0.003033</td>\n      <td>1.970288</td>\n      <td>-0.706198</td>\n    </tr>\n    <tr>\n      <th>2013-04-09</th>\n      <td>1.659426</td>\n      <td>-0.640438</td>\n      <td>-0.139371</td>\n      <td>-0.869247</td>\n    </tr>\n    <tr>\n      <th>2013-04-10</th>\n      <td>0.910391</td>\n      <td>0.741497</td>\n      <td>1.748908</td>\n      <td>-0.646464</td>\n    </tr>\n  </tbody>\n</table>\n<p>100 rows × 4 columns</p>\n</div>"
     },
     "metadata": {},
     "execution_count": 23
    }
   ],
   "source": [
    "df.sort_index(axis=1, ascending=False)"
   ]
  },
  {
   "cell_type": "code",
   "execution_count": 26,
   "metadata": {},
   "outputs": [
    {
     "output_type": "execute_result",
     "data": {
      "text/plain": [
       "                   A         B         C         D\n",
       "2013-01-01 -0.422622 -2.815544 -0.476814 -0.245755\n",
       "2013-01-05 -0.083761 -2.175678  1.956755 -0.910462\n",
       "2013-02-08 -1.627278 -2.171060 -0.826266 -0.045392\n",
       "2013-03-25  0.505081 -1.765590  0.019208  0.793264\n",
       "2013-02-27 -0.439497 -1.738838 -0.347191 -0.719346\n",
       "...              ...       ...       ...       ...\n",
       "2013-01-16 -0.001920  1.676543  0.932683  0.059019\n",
       "2013-04-10 -0.646464  1.748908  0.741497  0.910391\n",
       "2013-03-26  1.585015  1.870667  1.075534 -0.305785\n",
       "2013-04-08 -0.706198  1.970288 -0.003033  0.452632\n",
       "2013-03-11 -0.265052  2.938295 -0.185613 -1.040436\n",
       "\n",
       "[100 rows x 4 columns]"
      ],
      "text/html": "<div>\n<style scoped>\n    .dataframe tbody tr th:only-of-type {\n        vertical-align: middle;\n    }\n\n    .dataframe tbody tr th {\n        vertical-align: top;\n    }\n\n    .dataframe thead th {\n        text-align: right;\n    }\n</style>\n<table border=\"1\" class=\"dataframe\">\n  <thead>\n    <tr style=\"text-align: right;\">\n      <th></th>\n      <th>A</th>\n      <th>B</th>\n      <th>C</th>\n      <th>D</th>\n    </tr>\n  </thead>\n  <tbody>\n    <tr>\n      <th>2013-01-01</th>\n      <td>-0.422622</td>\n      <td>-2.815544</td>\n      <td>-0.476814</td>\n      <td>-0.245755</td>\n    </tr>\n    <tr>\n      <th>2013-01-05</th>\n      <td>-0.083761</td>\n      <td>-2.175678</td>\n      <td>1.956755</td>\n      <td>-0.910462</td>\n    </tr>\n    <tr>\n      <th>2013-02-08</th>\n      <td>-1.627278</td>\n      <td>-2.171060</td>\n      <td>-0.826266</td>\n      <td>-0.045392</td>\n    </tr>\n    <tr>\n      <th>2013-03-25</th>\n      <td>0.505081</td>\n      <td>-1.765590</td>\n      <td>0.019208</td>\n      <td>0.793264</td>\n    </tr>\n    <tr>\n      <th>2013-02-27</th>\n      <td>-0.439497</td>\n      <td>-1.738838</td>\n      <td>-0.347191</td>\n      <td>-0.719346</td>\n    </tr>\n    <tr>\n      <th>...</th>\n      <td>...</td>\n      <td>...</td>\n      <td>...</td>\n      <td>...</td>\n    </tr>\n    <tr>\n      <th>2013-01-16</th>\n      <td>-0.001920</td>\n      <td>1.676543</td>\n      <td>0.932683</td>\n      <td>0.059019</td>\n    </tr>\n    <tr>\n      <th>2013-04-10</th>\n      <td>-0.646464</td>\n      <td>1.748908</td>\n      <td>0.741497</td>\n      <td>0.910391</td>\n    </tr>\n    <tr>\n      <th>2013-03-26</th>\n      <td>1.585015</td>\n      <td>1.870667</td>\n      <td>1.075534</td>\n      <td>-0.305785</td>\n    </tr>\n    <tr>\n      <th>2013-04-08</th>\n      <td>-0.706198</td>\n      <td>1.970288</td>\n      <td>-0.003033</td>\n      <td>0.452632</td>\n    </tr>\n    <tr>\n      <th>2013-03-11</th>\n      <td>-0.265052</td>\n      <td>2.938295</td>\n      <td>-0.185613</td>\n      <td>-1.040436</td>\n    </tr>\n  </tbody>\n</table>\n<p>100 rows × 4 columns</p>\n</div>"
     },
     "metadata": {},
     "execution_count": 26
    }
   ],
   "source": [
    "df.sort_values(by='B')"
   ]
  },
  {
   "cell_type": "code",
   "execution_count": 28,
   "metadata": {},
   "outputs": [
    {
     "output_type": "execute_result",
     "data": {
      "text/plain": [
       "                   A         B         C         D\n",
       "2013-01-05 -0.083761 -2.175678  1.956755 -0.910462\n",
       "2013-01-06  0.346930  0.634117  0.131058  0.163284\n",
       "2013-01-07  1.282448  0.074286  0.144877  0.689090\n",
       "2013-01-08  1.803111 -0.077987 -0.892378  0.088601\n",
       "2013-01-09  0.664761  1.519301  0.143835  0.409834\n",
       "2013-01-10 -0.331262  0.094993 -0.164609 -1.025334"
      ],
      "text/html": "<div>\n<style scoped>\n    .dataframe tbody tr th:only-of-type {\n        vertical-align: middle;\n    }\n\n    .dataframe tbody tr th {\n        vertical-align: top;\n    }\n\n    .dataframe thead th {\n        text-align: right;\n    }\n</style>\n<table border=\"1\" class=\"dataframe\">\n  <thead>\n    <tr style=\"text-align: right;\">\n      <th></th>\n      <th>A</th>\n      <th>B</th>\n      <th>C</th>\n      <th>D</th>\n    </tr>\n  </thead>\n  <tbody>\n    <tr>\n      <th>2013-01-05</th>\n      <td>-0.083761</td>\n      <td>-2.175678</td>\n      <td>1.956755</td>\n      <td>-0.910462</td>\n    </tr>\n    <tr>\n      <th>2013-01-06</th>\n      <td>0.346930</td>\n      <td>0.634117</td>\n      <td>0.131058</td>\n      <td>0.163284</td>\n    </tr>\n    <tr>\n      <th>2013-01-07</th>\n      <td>1.282448</td>\n      <td>0.074286</td>\n      <td>0.144877</td>\n      <td>0.689090</td>\n    </tr>\n    <tr>\n      <th>2013-01-08</th>\n      <td>1.803111</td>\n      <td>-0.077987</td>\n      <td>-0.892378</td>\n      <td>0.088601</td>\n    </tr>\n    <tr>\n      <th>2013-01-09</th>\n      <td>0.664761</td>\n      <td>1.519301</td>\n      <td>0.143835</td>\n      <td>0.409834</td>\n    </tr>\n    <tr>\n      <th>2013-01-10</th>\n      <td>-0.331262</td>\n      <td>0.094993</td>\n      <td>-0.164609</td>\n      <td>-1.025334</td>\n    </tr>\n  </tbody>\n</table>\n</div>"
     },
     "metadata": {},
     "execution_count": 28
    }
   ],
   "source": [
    "df['20130105':'20130110']\n"
   ]
  },
  {
   "cell_type": "code",
   "execution_count": 29,
   "metadata": {},
   "outputs": [],
   "source": [
    "df.drop ('A', axis =1, inplace=True)"
   ]
  },
  {
   "cell_type": "code",
   "execution_count": 30,
   "metadata": {},
   "outputs": [
    {
     "output_type": "execute_result",
     "data": {
      "text/plain": [
       "                   B         C         D\n",
       "2013-01-01 -2.815544 -0.476814 -0.245755\n",
       "2013-01-02 -0.535173  1.526883 -1.310112\n",
       "2013-01-03 -1.378519 -0.217833 -0.255013\n",
       "2013-01-04  1.380687  0.448781  1.609512\n",
       "2013-01-05 -2.175678  1.956755 -0.910462\n",
       "...              ...       ...       ...\n",
       "2013-04-06 -0.871351 -0.619711 -1.363034\n",
       "2013-04-07  0.413839 -0.408717  1.044716\n",
       "2013-04-08  1.970288 -0.003033  0.452632\n",
       "2013-04-09 -0.139371 -0.640438  1.659426\n",
       "2013-04-10  1.748908  0.741497  0.910391\n",
       "\n",
       "[100 rows x 3 columns]"
      ],
      "text/html": "<div>\n<style scoped>\n    .dataframe tbody tr th:only-of-type {\n        vertical-align: middle;\n    }\n\n    .dataframe tbody tr th {\n        vertical-align: top;\n    }\n\n    .dataframe thead th {\n        text-align: right;\n    }\n</style>\n<table border=\"1\" class=\"dataframe\">\n  <thead>\n    <tr style=\"text-align: right;\">\n      <th></th>\n      <th>B</th>\n      <th>C</th>\n      <th>D</th>\n    </tr>\n  </thead>\n  <tbody>\n    <tr>\n      <th>2013-01-01</th>\n      <td>-2.815544</td>\n      <td>-0.476814</td>\n      <td>-0.245755</td>\n    </tr>\n    <tr>\n      <th>2013-01-02</th>\n      <td>-0.535173</td>\n      <td>1.526883</td>\n      <td>-1.310112</td>\n    </tr>\n    <tr>\n      <th>2013-01-03</th>\n      <td>-1.378519</td>\n      <td>-0.217833</td>\n      <td>-0.255013</td>\n    </tr>\n    <tr>\n      <th>2013-01-04</th>\n      <td>1.380687</td>\n      <td>0.448781</td>\n      <td>1.609512</td>\n    </tr>\n    <tr>\n      <th>2013-01-05</th>\n      <td>-2.175678</td>\n      <td>1.956755</td>\n      <td>-0.910462</td>\n    </tr>\n    <tr>\n      <th>...</th>\n      <td>...</td>\n      <td>...</td>\n      <td>...</td>\n    </tr>\n    <tr>\n      <th>2013-04-06</th>\n      <td>-0.871351</td>\n      <td>-0.619711</td>\n      <td>-1.363034</td>\n    </tr>\n    <tr>\n      <th>2013-04-07</th>\n      <td>0.413839</td>\n      <td>-0.408717</td>\n      <td>1.044716</td>\n    </tr>\n    <tr>\n      <th>2013-04-08</th>\n      <td>1.970288</td>\n      <td>-0.003033</td>\n      <td>0.452632</td>\n    </tr>\n    <tr>\n      <th>2013-04-09</th>\n      <td>-0.139371</td>\n      <td>-0.640438</td>\n      <td>1.659426</td>\n    </tr>\n    <tr>\n      <th>2013-04-10</th>\n      <td>1.748908</td>\n      <td>0.741497</td>\n      <td>0.910391</td>\n    </tr>\n  </tbody>\n</table>\n<p>100 rows × 3 columns</p>\n</div>"
     },
     "metadata": {},
     "execution_count": 30
    }
   ],
   "source": [
    "df"
   ]
  },
  {
   "cell_type": "code",
   "execution_count": null,
   "metadata": {},
   "outputs": [],
   "source": []
  }
 ]
}